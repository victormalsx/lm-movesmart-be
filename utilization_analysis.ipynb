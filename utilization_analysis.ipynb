{
 "cells": [
  {
   "cell_type": "markdown",
   "id": "e3a9f6ee-5801-43b7-bb76-bf72b7807f88",
   "metadata": {},
   "source": [
    "### Utilization Analysis\n",
    "---\n",
    "This notebook has the utilization formula to get the current state an organization in terms of percentage of utilization per customer and per vehicle.\n",
    "\n",
    "### Variables identification\n",
    "- N. of Customers\n",
    "- N. of Reservations average per Customer\n",
    "- Average of reservation duration\n",
    "- N. of Vehicles\n",
    "- Available Hours\n",
    "\n",
    "### Common Utilization Formula\n",
    "\\begin{gather*}\n",
    "Utilization=\\ \\frac{Total\\ Hours\\ Vehicles\\ are\\ Reserved\\ in\\ a\\ Month\\ }{Total\\ Available\\ Vehicle\\ Hours\\ in\\ a\\ Month} \\times 24\n",
    "\\end{gather*}\n",
    "\n",
    "### Final Utilization Formula\n",
    "\\begin{equation*}\n",
    "Utilization( \\%) \\ =\\ \\frac{Number\\ of\\ Customers\\times Reservations\\ per\\ Customer\\ per\\ Month\\ \\times Average\\ Reservation\\ Duration\\ Hours\\ }{Number\\ of\\ Vehicles\\times (720\\ hours - Average\\ Hours\\ Inshop)} \\times 100\n",
    "\\end{equation*}"
   ]
  },
  {
   "cell_type": "code",
   "execution_count": 1,
   "id": "e3c43656-b230-454f-8871-4c0c958892fd",
   "metadata": {},
   "outputs": [],
   "source": [
    "import os\n",
    "import numpy as np\n",
    "import pandas as pd\n",
    "import matplotlib.pyplot as plt\n",
    "import seaborn as sns"
   ]
  },
  {
   "cell_type": "code",
   "execution_count": 2,
   "id": "12fc9fc1-8405-4ec8-b094-f28fb5f86457",
   "metadata": {},
   "outputs": [],
   "source": [
    "# Read the CSVs\n",
    "customers = pd.read_csv('data/n_customers.csv')\n",
    "reservations_per_customer = pd.read_csv('data/n_reservation_per_customer.csv')\n",
    "reservation_duration_hours = pd.read_csv('data/reservations_duration_hours.csv')\n",
    "total_hours_vehicles_inshop_per_month = pd.read_csv('data/total_hous_vehicles_inshop_per_month.csv')"
   ]
  },
  {
   "cell_type": "code",
   "execution_count": 3,
   "id": "a7d12733-bc6c-4e42-ae16-8eabb615c152",
   "metadata": {},
   "outputs": [
    {
     "data": {
      "text/plain": [
       "user_id    202\n",
       "dtype: int64"
      ]
     },
     "execution_count": 3,
     "metadata": {},
     "output_type": "execute_result"
    }
   ],
   "source": [
    "# Number of customers ACTIVE in JFS\n",
    "customers.count()\n",
    "# "
   ]
  },
  {
   "cell_type": "code",
   "execution_count": 4,
   "id": "7862b774-27e6-4aef-8391-aa0b440a48e3",
   "metadata": {},
   "outputs": [
    {
     "data": {
      "text/plain": [
       "count    2314.000000\n",
       "mean       10.882022\n",
       "std         6.846056\n",
       "min         1.000000\n",
       "25%         5.000000\n",
       "50%        11.000000\n",
       "75%        17.000000\n",
       "max        35.000000\n",
       "Name: number_reservations, dtype: float64"
      ]
     },
     "execution_count": 4,
     "metadata": {},
     "output_type": "execute_result"
    }
   ],
   "source": [
    "# Statistical analysis for number of reservations per customer per month\n",
    "reservations_per_customer['number_reservations'].describe()"
   ]
  },
  {
   "cell_type": "code",
   "execution_count": 5,
   "id": "7f73c58b-63be-4048-ac59-c2ea36b4917b",
   "metadata": {},
   "outputs": [
    {
     "data": {
      "text/html": [
       "<div>\n",
       "<style scoped>\n",
       "    .dataframe tbody tr th:only-of-type {\n",
       "        vertical-align: middle;\n",
       "    }\n",
       "\n",
       "    .dataframe tbody tr th {\n",
       "        vertical-align: top;\n",
       "    }\n",
       "\n",
       "    .dataframe thead th {\n",
       "        text-align: right;\n",
       "    }\n",
       "</style>\n",
       "<table border=\"1\" class=\"dataframe\">\n",
       "  <thead>\n",
       "    <tr style=\"text-align: right;\">\n",
       "      <th></th>\n",
       "      <th>duration_hours</th>\n",
       "    </tr>\n",
       "  </thead>\n",
       "  <tbody>\n",
       "    <tr>\n",
       "      <th>count</th>\n",
       "      <td>25181.000000</td>\n",
       "    </tr>\n",
       "    <tr>\n",
       "      <th>mean</th>\n",
       "      <td>8.992348</td>\n",
       "    </tr>\n",
       "    <tr>\n",
       "      <th>std</th>\n",
       "      <td>50.892716</td>\n",
       "    </tr>\n",
       "    <tr>\n",
       "      <th>min</th>\n",
       "      <td>0.000830</td>\n",
       "    </tr>\n",
       "    <tr>\n",
       "      <th>25%</th>\n",
       "      <td>3.653842</td>\n",
       "    </tr>\n",
       "    <tr>\n",
       "      <th>50%</th>\n",
       "      <td>6.029389</td>\n",
       "    </tr>\n",
       "    <tr>\n",
       "      <th>75%</th>\n",
       "      <td>7.776328</td>\n",
       "    </tr>\n",
       "    <tr>\n",
       "      <th>max</th>\n",
       "      <td>7248.198151</td>\n",
       "    </tr>\n",
       "  </tbody>\n",
       "</table>\n",
       "</div>"
      ],
      "text/plain": [
       "       duration_hours\n",
       "count    25181.000000\n",
       "mean         8.992348\n",
       "std         50.892716\n",
       "min          0.000830\n",
       "25%          3.653842\n",
       "50%          6.029389\n",
       "75%          7.776328\n",
       "max       7248.198151"
      ]
     },
     "execution_count": 5,
     "metadata": {},
     "output_type": "execute_result"
    }
   ],
   "source": [
    "# Statistical analysis for the duration of reservations in hours\n",
    "reservation_duration_hours.describe()"
   ]
  },
  {
   "cell_type": "code",
   "execution_count": 6,
   "id": "6ac07294-d4d4-4072-b533-8bbccad4d6ce",
   "metadata": {},
   "outputs": [
    {
     "data": {
      "text/plain": [
       "count     54.000000\n",
       "mean     209.991725\n",
       "std      186.296776\n",
       "min        0.085040\n",
       "25%       96.799082\n",
       "50%      165.939970\n",
       "75%      257.669646\n",
       "max      743.999722\n",
       "Name: duration_hours, dtype: float64"
      ]
     },
     "execution_count": 6,
     "metadata": {},
     "output_type": "execute_result"
    }
   ],
   "source": [
    "# Statistica analysis for the duration of vehicles INSHOP in hours per month\n",
    "total_hours_vehicles_inshop_per_month['duration_hours'].describe()"
   ]
  },
  {
   "cell_type": "markdown",
   "id": "aa19140b-fa23-4c0f-bafe-ed8e33862f5e",
   "metadata": {},
   "source": [
    "### Variables Definition\n",
    "- Number of Active Customers: **173**\n",
    "- Average of reservations per customer per month: **10.882022**\n",
    "- Average of the duration in hours of reservations: **8.992348**\n",
    "- Number of vehicles in the fleet: **59**\n",
    "- Average of hours a vehicle is in maintenance per month: **209.991725**\n",
    "- Utilization: **35.15 %**"
   ]
  },
  {
   "cell_type": "markdown",
   "id": "f2082bc8-8a21-4297-9cf3-554c13f55c70",
   "metadata": {},
   "source": [
    "### Calculation of the Utilization Step by Step"
   ]
  },
  {
   "cell_type": "markdown",
   "id": "a518bf57-4d04-4a54-9975-04437afd1523",
   "metadata": {},
   "source": [
    "\\begin{equation*}\n",
    "Total\\ Reserved\\ Hours\\ =\\ Number\\ of\\ Customers\\times Reservations\\ per\\ Customer\\ per\\ Month\\ \\times Average\\ Reservation\\ Duration\\ Hours\\\n",
    "\\end{equation*}\n",
    "\\begin{equation*}\n",
    "Total\\ Reserved\\ Hours\\ =\\ 19,766.69\\ Hours\\\\\n",
    "\\end{equation*}"
   ]
  },
  {
   "cell_type": "code",
   "execution_count": 35,
   "id": "d234d78d-c706-4273-8662-e0661d26c79f",
   "metadata": {},
   "outputs": [
    {
     "name": "stdout",
     "output_type": "stream",
     "text": [
      "16928.902676804486 hours\n"
     ]
    }
   ],
   "source": [
    "total_reserved_hours_per_month = 173 * 10.882022 * 8.992348\n",
    "print(f'{total_reserved_hours_per_month} hours')"
   ]
  },
  {
   "cell_type": "markdown",
   "id": "6febe6ea-f35f-4f48-a775-de1641cf6381",
   "metadata": {},
   "source": [
    "\\begin{equation*}\n",
    "Available\\ Hours\\ per\\ Vehicle\\ per\\ Month\\ =\\ 720\\ Hours\\ - Average\\ Maintenance\\ Duration\\ In\\ Hours\\\n",
    "\\end{equation*}\n",
    "\\begin{equation*}\n",
    "Available\\ Hours\\ per\\ Vehicle\\ per\\ Month\\ =\\ 510.00\\ Hours\\\n",
    "\\end{equation*}"
   ]
  },
  {
   "cell_type": "code",
   "execution_count": 36,
   "id": "67232c40-8b53-44ee-aafd-26944807e6fa",
   "metadata": {},
   "outputs": [
    {
     "name": "stdout",
     "output_type": "stream",
     "text": [
      "510.008275 hours\n"
     ]
    }
   ],
   "source": [
    "available_vehicle_hours_per_month = 720 - 209.991725\n",
    "print(f'{available_vehicle_hours_per_month} hours')"
   ]
  },
  {
   "cell_type": "markdown",
   "id": "4f8bd906-3ce8-44bd-bb31-b7c65601c696",
   "metadata": {},
   "source": [
    "\\begin{equation*}\n",
    "Total Available\\ Vehicle\\ Hours\\ per\\ Month\\ = Number\\ of\\ Vehicles\\ \\times Available\\ Hours\\ per\\ Vehicle\\ per\\ Month\\\n",
    "\\end{equation*}\n",
    "\\begin{equation*}\n",
    "Total Available\\ Vehicle\\ Hours\\ per\\ Month\\ = 30,090.488\\ Hours\\\n",
    "\\end{equation*}"
   ]
  },
  {
   "cell_type": "code",
   "execution_count": 37,
   "id": "af69dbb3-bab4-4373-b42e-13dfcfa0e905",
   "metadata": {},
   "outputs": [
    {
     "name": "stdout",
     "output_type": "stream",
     "text": [
      "48150.200000000004 hours\n"
     ]
    }
   ],
   "source": [
    "# Total available vehicle hours per month\n",
    "total_available_vehicle_hour_per_month = 70 * 687.86\n",
    "print(f'{total_available_vehicle_hour_per_month} hours')"
   ]
  },
  {
   "cell_type": "markdown",
   "id": "537470dd-20b8-4ca1-bf8a-8ce7eb1cfbc4",
   "metadata": {},
   "source": [
    "\\begin{equation*}\n",
    "Utilization\\ ( \\% per\\ month ) =\\ \\frac{Total\\ Reserved\\ Hours\\ }{Total\\ Available\\ Vehicle\\ Hours\\ } \\times 100\n",
    "\\end{equation*}\n",
    "\\begin{equation*}\n",
    "Utilization\\ ( \\% per\\ month ) =\\ 65.69\\ \\%\n",
    "\\end{equation*}"
   ]
  },
  {
   "cell_type": "code",
   "execution_count": 38,
   "id": "00fe238e-9a9c-4ce5-9469-2665a28d10df",
   "metadata": {},
   "outputs": [
    {
     "name": "stdout",
     "output_type": "stream",
     "text": [
      "Utilization is 35.158530342147046 %\n"
     ]
    }
   ],
   "source": [
    "# Utilization (%)\n",
    "utilization = (total_reserved_hours_per_month / total_available_vehicle_hour_per_month) * 100\n",
    "print(f'Utilization is {utilization} %')"
   ]
  },
  {
   "cell_type": "code",
   "execution_count": 14,
   "id": "7514701e-b6cf-4001-a89d-54d9df218b0f",
   "metadata": {},
   "outputs": [],
   "source": [
    "total_hours_inshop = pd.read_csv('data/hours_inshop_TFS.csv')\n"
   ]
  },
  {
   "cell_type": "code",
   "execution_count": 15,
   "id": "3122960b-52ff-42ac-9d92-a1102a97618d",
   "metadata": {},
   "outputs": [
    {
     "data": {
      "text/plain": [
       "count    18704.000000\n",
       "mean       162.419117\n",
       "std        227.130477\n",
       "min          0.001236\n",
       "25%          6.090922\n",
       "50%         53.293133\n",
       "75%        213.348563\n",
       "max        743.999722\n",
       "Name: duration_hours, dtype: float64"
      ]
     },
     "execution_count": 15,
     "metadata": {},
     "output_type": "execute_result"
    }
   ],
   "source": [
    "total_hours_inshop['duration_hours'].describe()"
   ]
  },
  {
   "cell_type": "code",
   "execution_count": null,
   "id": "388a8cd4-4122-41ce-b6b2-68fd6f78a5b2",
   "metadata": {},
   "outputs": [],
   "source": []
  }
 ],
 "metadata": {
  "kernelspec": {
   "display_name": "Python 3 (ipykernel)",
   "language": "python",
   "name": "python3"
  },
  "language_info": {
   "codemirror_mode": {
    "name": "ipython",
    "version": 3
   },
   "file_extension": ".py",
   "mimetype": "text/x-python",
   "name": "python",
   "nbconvert_exporter": "python",
   "pygments_lexer": "ipython3",
   "version": "3.9.16"
  }
 },
 "nbformat": 4,
 "nbformat_minor": 5
}
